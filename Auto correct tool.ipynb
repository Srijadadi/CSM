{
 "cells": [
  {
   "cell_type": "code",
   "execution_count": 1,
   "id": "6abd05c4",
   "metadata": {},
   "outputs": [
    {
     "name": "stdout",
     "output_type": "stream",
     "text": [
      "Requirement already satisfied: pyspellchecker in c:\\users\\dadis\\anaconda3\\lib\\site-packages (0.7.2)\n",
      "Note: you may need to restart the kernel to use updated packages.\n"
     ]
    }
   ],
   "source": [
    "pip install pyspellchecker"
   ]
  },
  {
   "cell_type": "code",
   "execution_count": 2,
   "id": "fae1643b",
   "metadata": {},
   "outputs": [],
   "source": [
    "from spellchecker import SpellChecker"
   ]
  },
  {
   "cell_type": "code",
   "execution_count": 3,
   "id": "e68fcf8c",
   "metadata": {},
   "outputs": [
    {
     "data": {
      "text/plain": [
       "['_SpellChecker__edit_distance_alt',\n",
       " '__class__',\n",
       " '__contains__',\n",
       " '__delattr__',\n",
       " '__dir__',\n",
       " '__doc__',\n",
       " '__eq__',\n",
       " '__format__',\n",
       " '__ge__',\n",
       " '__getattribute__',\n",
       " '__getitem__',\n",
       " '__gt__',\n",
       " '__hash__',\n",
       " '__init__',\n",
       " '__init_subclass__',\n",
       " '__iter__',\n",
       " '__le__',\n",
       " '__lt__',\n",
       " '__module__',\n",
       " '__ne__',\n",
       " '__new__',\n",
       " '__reduce__',\n",
       " '__reduce_ex__',\n",
       " '__repr__',\n",
       " '__setattr__',\n",
       " '__sizeof__',\n",
       " '__slots__',\n",
       " '__str__',\n",
       " '__subclasshook__',\n",
       " '_case_sensitive',\n",
       " '_check_if_should_check',\n",
       " '_distance',\n",
       " '_tokenizer',\n",
       " '_word_frequency',\n",
       " 'candidates',\n",
       " 'correction',\n",
       " 'distance',\n",
       " 'edit_distance_1',\n",
       " 'edit_distance_2',\n",
       " 'export',\n",
       " 'known',\n",
       " 'languages',\n",
       " 'split_words',\n",
       " 'unknown',\n",
       " 'word_frequency',\n",
       " 'word_usage_frequency']"
      ]
     },
     "execution_count": 3,
     "metadata": {},
     "output_type": "execute_result"
    }
   ],
   "source": [
    "dir(SpellChecker)"
   ]
  },
  {
   "cell_type": "code",
   "execution_count": 4,
   "id": "b2f99b33",
   "metadata": {},
   "outputs": [],
   "source": [
    "spell=SpellChecker()"
   ]
  },
  {
   "cell_type": "code",
   "execution_count": 5,
   "id": "3c75ea2b",
   "metadata": {},
   "outputs": [],
   "source": [
    "docx=[\"outo\",\"calandar\",\"lightenig\",\"misspel\",\"necessry\",\"bussiness\",\"recieve\",\"adress\"]"
   ]
  },
  {
   "cell_type": "code",
   "execution_count": 6,
   "id": "b0668617",
   "metadata": {},
   "outputs": [
    {
     "name": "stdout",
     "output_type": "stream",
     "text": [
      "outo:out\n",
      "calandar:calendar\n",
      "lightenig:lightening\n",
      "misspel:misspell\n",
      "necessry:necessary\n",
      "bussiness:business\n",
      "recieve:receive\n",
      "adress:dress\n"
     ]
    }
   ],
   "source": [
    "for word in docx:\n",
    "# Get the one `most likely` answer\n",
    "    print(f'{word}:{spell.correction(word)}')"
   ]
  },
  {
   "cell_type": "code",
   "execution_count": 7,
   "id": "eac24c98",
   "metadata": {},
   "outputs": [
    {
     "name": "stdout",
     "output_type": "stream",
     "text": [
      "outo:{'outa', 'outs', 'oto', 'outdo', 'youto', 'orto', 'outto', 'outl', 'onto', 'ouzo', 'out', 'outon', 'puto', 'auto', 'outof', 'otto'}\n",
      "calandar:{'calendar'}\n",
      "lightenig:{'lightening'}\n",
      "misspel:{'misspell'}\n",
      "necessry:{'necessay', 'necessary'}\n",
      "bussiness:{'business', 'bussines'}\n",
      "recieve:{'receive', 'relieve'}\n",
      "adress:{'address', 'dress'}\n"
     ]
    }
   ],
   "source": [
    "for word in docx:\n",
    "    print(f'{word}:{spell.candidates(word)}')"
   ]
  },
  {
   "cell_type": "code",
   "execution_count": 8,
   "id": "44a60651",
   "metadata": {},
   "outputs": [],
   "source": [
    "myname =\"outo\""
   ]
  },
  {
   "cell_type": "code",
   "execution_count": 9,
   "id": "4404d158",
   "metadata": {},
   "outputs": [
    {
     "data": {
      "text/plain": [
       "'out'"
      ]
     },
     "execution_count": 9,
     "metadata": {},
     "output_type": "execute_result"
    }
   ],
   "source": [
    "spell.correction(myname)"
   ]
  },
  {
   "cell_type": "code",
   "execution_count": 10,
   "id": "817df87e",
   "metadata": {},
   "outputs": [
    {
     "data": {
      "text/plain": [
       "{'auto',\n",
       " 'onto',\n",
       " 'orto',\n",
       " 'oto',\n",
       " 'otto',\n",
       " 'out',\n",
       " 'outa',\n",
       " 'outdo',\n",
       " 'outl',\n",
       " 'outof',\n",
       " 'outon',\n",
       " 'outs',\n",
       " 'outto',\n",
       " 'ouzo',\n",
       " 'puto',\n",
       " 'youto'}"
      ]
     },
     "execution_count": 10,
     "metadata": {},
     "output_type": "execute_result"
    }
   ],
   "source": [
    "spell.candidates(myname)"
   ]
  },
  {
   "cell_type": "code",
   "execution_count": 11,
   "id": "c7782a3f",
   "metadata": {},
   "outputs": [
    {
     "name": "stdout",
     "output_type": "stream",
     "text": [
      "Requirement already satisfied: autocorrect in c:\\users\\dadis\\anaconda3\\lib\\site-packages (2.6.1)\n",
      "Note: you may need to restart the kernel to use updated packages.\n"
     ]
    }
   ],
   "source": [
    "pip install autocorrect"
   ]
  },
  {
   "cell_type": "code",
   "execution_count": 12,
   "id": "db9135ab",
   "metadata": {},
   "outputs": [],
   "source": [
    "from autocorrect import spell"
   ]
  },
  {
   "cell_type": "code",
   "execution_count": 13,
   "id": "25f95027",
   "metadata": {},
   "outputs": [
    {
     "data": {
      "text/plain": [
       "['outo',\n",
       " 'calandar',\n",
       " 'lightenig',\n",
       " 'misspel',\n",
       " 'necessry',\n",
       " 'bussiness',\n",
       " 'recieve',\n",
       " 'adress']"
      ]
     },
     "execution_count": 13,
     "metadata": {},
     "output_type": "execute_result"
    }
   ],
   "source": [
    "docx"
   ]
  },
  {
   "cell_type": "code",
   "execution_count": 14,
   "id": "7756f6eb",
   "metadata": {},
   "outputs": [
    {
     "name": "stdout",
     "output_type": "stream",
     "text": [
      "autocorrect.spell is deprecated,             use autocorrect.Speller instead\n",
      "out\n",
      "autocorrect.spell is deprecated,             use autocorrect.Speller instead\n",
      "calendar\n",
      "autocorrect.spell is deprecated,             use autocorrect.Speller instead\n",
      "lighting\n",
      "autocorrect.spell is deprecated,             use autocorrect.Speller instead\n",
      "missed\n",
      "autocorrect.spell is deprecated,             use autocorrect.Speller instead\n",
      "necessary\n",
      "autocorrect.spell is deprecated,             use autocorrect.Speller instead\n",
      "business\n",
      "autocorrect.spell is deprecated,             use autocorrect.Speller instead\n",
      "receive\n",
      "autocorrect.spell is deprecated,             use autocorrect.Speller instead\n",
      "address\n"
     ]
    }
   ],
   "source": [
    "for word in docx:\n",
    "    print(spell(word))"
   ]
  },
  {
   "cell_type": "code",
   "execution_count": 15,
   "id": "bcf9f958",
   "metadata": {},
   "outputs": [
    {
     "name": "stdout",
     "output_type": "stream",
     "text": [
      "Requirement already satisfied: textblob in c:\\users\\dadis\\anaconda3\\lib\\site-packages (0.17.1)\n",
      "Requirement already satisfied: nltk>=3.1 in c:\\users\\dadis\\anaconda3\\lib\\site-packages (from textblob) (3.7)\n",
      "Requirement already satisfied: regex>=2021.8.3 in c:\\users\\dadis\\anaconda3\\lib\\site-packages (from nltk>=3.1->textblob) (2022.3.15)\n",
      "Requirement already satisfied: joblib in c:\\users\\dadis\\anaconda3\\lib\\site-packages (from nltk>=3.1->textblob) (1.1.0)\n",
      "Requirement already satisfied: click in c:\\users\\dadis\\anaconda3\\lib\\site-packages (from nltk>=3.1->textblob) (8.0.4)\n",
      "Requirement already satisfied: tqdm in c:\\users\\dadis\\anaconda3\\lib\\site-packages (from nltk>=3.1->textblob) (4.64.0)\n",
      "Requirement already satisfied: colorama in c:\\users\\dadis\\anaconda3\\lib\\site-packages (from click->nltk>=3.1->textblob) (0.4.4)\n",
      "Note: you may need to restart the kernel to use updated packages.\n"
     ]
    }
   ],
   "source": [
    "pip install textblob"
   ]
  },
  {
   "cell_type": "code",
   "execution_count": 16,
   "id": "43a810dc",
   "metadata": {},
   "outputs": [],
   "source": [
    "from textblob import TextBlob"
   ]
  },
  {
   "cell_type": "code",
   "execution_count": 17,
   "id": "a2f7c581",
   "metadata": {},
   "outputs": [],
   "source": [
    "spell = TextBlob(\"I amm goodd at spelling mstake.\")"
   ]
  },
  {
   "cell_type": "code",
   "execution_count": 18,
   "id": "2621bb2c",
   "metadata": {},
   "outputs": [],
   "source": [
    "# using TextBlob.correct() method\n",
    "spell = spell.correct()"
   ]
  },
  {
   "cell_type": "code",
   "execution_count": 19,
   "id": "ebf260c4",
   "metadata": {},
   "outputs": [],
   "source": [
    "# using TextBlob.correct() method\n",
    "spell = spell.correct()"
   ]
  },
  {
   "cell_type": "code",
   "execution_count": 20,
   "id": "673dd301",
   "metadata": {},
   "outputs": [
    {
     "name": "stdout",
     "output_type": "stream",
     "text": [
      "I am good at spelling mistake.\n"
     ]
    }
   ],
   "source": [
    "print(spell)\n"
   ]
  },
  {
   "cell_type": "code",
   "execution_count": 21,
   "id": "4d2eadad",
   "metadata": {},
   "outputs": [
    {
     "name": "stdout",
     "output_type": "stream",
     "text": [
      "Requirement already satisfied: googletrans in c:\\users\\dadis\\anaconda3\\lib\\site-packages (3.0.0)\n",
      "Requirement already satisfied: httpx==0.13.3 in c:\\users\\dadis\\anaconda3\\lib\\site-packages (from googletrans) (0.13.3)\n",
      "Requirement already satisfied: idna==2.* in c:\\users\\dadis\\anaconda3\\lib\\site-packages (from httpx==0.13.3->googletrans) (2.10)\n",
      "Requirement already satisfied: sniffio in c:\\users\\dadis\\anaconda3\\lib\\site-packages (from httpx==0.13.3->googletrans) (1.2.0)\n",
      "Requirement already satisfied: chardet==3.* in c:\\users\\dadis\\anaconda3\\lib\\site-packages (from httpx==0.13.3->googletrans) (3.0.4)\n",
      "Requirement already satisfied: hstspreload in c:\\users\\dadis\\anaconda3\\lib\\site-packages (from httpx==0.13.3->googletrans) (2023.1.1)\n",
      "Requirement already satisfied: certifi in c:\\users\\dadis\\anaconda3\\lib\\site-packages (from httpx==0.13.3->googletrans) (2021.10.8)\n",
      "Requirement already satisfied: rfc3986<2,>=1.3 in c:\\users\\dadis\\anaconda3\\lib\\site-packages (from httpx==0.13.3->googletrans) (1.5.0)\n",
      "Requirement already satisfied: httpcore==0.9.* in c:\\users\\dadis\\anaconda3\\lib\\site-packages (from httpx==0.13.3->googletrans) (0.9.1)\n",
      "Requirement already satisfied: h2==3.* in c:\\users\\dadis\\anaconda3\\lib\\site-packages (from httpcore==0.9.*->httpx==0.13.3->googletrans) (3.2.0)\n",
      "Requirement already satisfied: h11<0.10,>=0.8 in c:\\users\\dadis\\anaconda3\\lib\\site-packages (from httpcore==0.9.*->httpx==0.13.3->googletrans) (0.9.0)\n",
      "Requirement already satisfied: hyperframe<6,>=5.2.0 in c:\\users\\dadis\\anaconda3\\lib\\site-packages (from h2==3.*->httpcore==0.9.*->httpx==0.13.3->googletrans) (5.2.0)\n",
      "Requirement already satisfied: hpack<4,>=3.0 in c:\\users\\dadis\\anaconda3\\lib\\site-packages (from h2==3.*->httpcore==0.9.*->httpx==0.13.3->googletrans) (3.0.0)\n"
     ]
    }
   ],
   "source": [
    "!pip install googletrans"
   ]
  },
  {
   "cell_type": "code",
   "execution_count": null,
   "id": "4dea723b",
   "metadata": {},
   "outputs": [],
   "source": []
  },
  {
   "cell_type": "code",
   "execution_count": null,
   "id": "1313f7b5",
   "metadata": {},
   "outputs": [],
   "source": []
  }
 ],
 "metadata": {
  "kernelspec": {
   "display_name": "Python 3 (ipykernel)",
   "language": "python",
   "name": "python3"
  },
  "language_info": {
   "codemirror_mode": {
    "name": "ipython",
    "version": 3
   },
   "file_extension": ".py",
   "mimetype": "text/x-python",
   "name": "python",
   "nbconvert_exporter": "python",
   "pygments_lexer": "ipython3",
   "version": "3.9.12"
  }
 },
 "nbformat": 4,
 "nbformat_minor": 5
}
